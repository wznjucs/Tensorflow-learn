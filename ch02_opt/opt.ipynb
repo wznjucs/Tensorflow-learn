{
 "cells": [
  {
   "cell_type": "code",
   "execution_count": 1,
   "metadata": {},
   "outputs": [],
   "source": [
    "import tensorflow as tf\n",
    "import numpy as np\n",
    "import matplotlib.pyplot as plt"
   ]
  },
  {
   "cell_type": "code",
   "execution_count": 19,
   "metadata": {},
   "outputs": [],
   "source": [
    "SEED = 23455\n",
    "BATCH_SIZE = 16\n",
    "DATA_SIZE = 32\n",
    "LEARNING_RATE = 0.001"
   ]
  },
  {
   "cell_type": "code",
   "execution_count": 20,
   "metadata": {},
   "outputs": [],
   "source": [
    "# 生成训练数据\n",
    "rdm = np.random.RandomState(SEED)\n",
    "X = rdm.rand(DATA_SIZE, 2)\n",
    "Y_ = [[x1 + x2 + rdm.rand() / 10 - 0.05] for (x1, x2) in X]"
   ]
  },
  {
   "cell_type": "code",
   "execution_count": 21,
   "metadata": {},
   "outputs": [],
   "source": [
    "# 定义数据节点\n",
    "x = tf.placeholder(tf.float32, shape=(None, 2))\n",
    "y_ = tf.placeholder(tf.float32, shape=(None, 1))\n",
    "\n",
    "# 定义计算节点\n",
    "w1 = tf.Variable(tf.random_normal([2, 3], stddev=1.0, seed=1))\n",
    "# w2 = tf.Variable(tf.random_normal([3, 1], stddev=1.0, seed=1))\n",
    "y = tf.matmul(x, w1)"
   ]
  },
  {
   "cell_type": "code",
   "execution_count": 22,
   "metadata": {},
   "outputs": [],
   "source": [
    "# 定义损失函数\n",
    "loss_op = tf.reduce_mean(tf.square(y_ - y))"
   ]
  },
  {
   "cell_type": "code",
   "execution_count": 23,
   "metadata": {},
   "outputs": [],
   "source": [
    "# 定义反向传播过程最小化损失函数\n",
    "train_op = tf.train.GradientDescentOptimizer(0.01).minimize(loss_op)"
   ]
  },
  {
   "cell_type": "code",
   "execution_count": 24,
   "metadata": {},
   "outputs": [
    {
     "name": "stdout",
     "output_type": "stream",
     "text": [
      "After 0 training steps, w1 is: 2.81658\n",
      "After 500 training steps, w1 is: 0.105713\n",
      "After 1000 training steps, w1 is: 0.0193969\n",
      "After 1500 training steps, w1 is: 0.00939883\n",
      "After 2000 training steps, w1 is: 0.00514526\n",
      "After 2500 training steps, w1 is: 0.00297205\n",
      "After 3000 training steps, w1 is: 0.00185009\n",
      "After 3500 training steps, w1 is: 0.00127054\n",
      "After 4000 training steps, w1 is: 0.000971164\n",
      "After 4500 training steps, w1 is: 0.000816518\n"
     ]
    }
   ],
   "source": [
    "L = []\n",
    "# 生成回话轮， 训练\n",
    "with tf.Session() as sess:\n",
    "    init_op = tf.global_variables_initializer()\n",
    "    sess.run(init_op)\n",
    "  \n",
    "\n",
    "    for i in range(5000):\n",
    "        start = (i * BATCH_SIZE) % DATA_SIZE\n",
    "        end = start + BATCH_SIZE\n",
    "        sess.run(train_op, feed_dict={x: X[start:end], y_: Y_[start:end]})\n",
    "        loss_value = sess.run(loss_op, feed_dict={x: X, y_: Y_})\n",
    "        L.append(loss_value)\n",
    "        if i % 500 == 0:\n",
    "            print(\"After %d training steps, w1 is: %g\" % (i, loss_value))\n",
    "\n"
   ]
  },
  {
   "cell_type": "code",
   "execution_count": 25,
   "metadata": {
    "scrolled": true
   },
   "outputs": [
    {
     "data": {
      "image/png": "[encoded data removed]",
      "text/plain": [
       "<Figure size 432x288 with 1 Axes>"
      ]
     },
     "metadata": {},
     "output_type": "display_data"
    }
   ],
   "source": [
    "plt.plot(L)\n",
    "plt.title(\"Train step %i with learning rate %g\" % (len(L), LEARNING_RATE))\n",
    "plt.show()"
   ]
  },
  {
   "cell_type": "code",
   "execution_count": null,
   "metadata": {},
   "outputs": [],
   "source": []
  }
 ],
 "metadata": {
  "kernelspec": {
   "display_name": "Python 3",
   "language": "python",
   "name": "python3"
  },
  "language_info": {
   "codemirror_mode": {
    "name": "ipython",
    "version": 3
   },
   "file_extension": ".py",
   "mimetype": "text/x-python",
   "name": "python",
   "nbconvert_exporter": "python",
   "pygments_lexer": "ipython3",
   "version": "3.5.4"
  }
 },
 "nbformat": 4,
 "nbformat_minor": 2
}
